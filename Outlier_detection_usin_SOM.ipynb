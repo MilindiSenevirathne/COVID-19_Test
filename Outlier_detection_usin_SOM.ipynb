{
  "nbformat": 4,
  "nbformat_minor": 0,
  "metadata": {
    "colab": {
      "provenance": [],
      "authorship_tag": "ABX9TyMsGMqvTy1OW7aERTDoEMiV",
      "include_colab_link": true
    },
    "kernelspec": {
      "name": "python3",
      "display_name": "Python 3"
    },
    "language_info": {
      "name": "python"
    }
  },
  "cells": [
    {
      "cell_type": "markdown",
      "metadata": {
        "id": "view-in-github",
        "colab_type": "text"
      },
      "source": [
        "<a href=\"https://colab.research.google.com/github/MilindiSenevirathne/COVID-19_Test/blob/main/Outlier_detection_usin_SOM.ipynb\" target=\"_parent\"><img src=\"https://colab.research.google.com/assets/colab-badge.svg\" alt=\"Open In Colab\"/></a>"
      ]
    },
    {
      "cell_type": "code",
      "execution_count": 1,
      "metadata": {
        "id": "Rg2TGhhWO-ZJ"
      },
      "outputs": [],
      "source": [
        "import geopandas as gpd"
      ]
    },
    {
      "cell_type": "code",
      "source": [
        "data =gpd.read_file('/content/sample_data/COVID-19_Cases_US.csv')\n",
        "data.head()"
      ],
      "metadata": {
        "colab": {
          "base_uri": "https://localhost:8080/",
          "height": 342
        },
        "id": "FEoDse8pPO_3",
        "outputId": "e923ca94-c834-4558-cf4b-f53c5a2f8cbd"
      },
      "execution_count": 2,
      "outputs": [
        {
          "output_type": "execute_result",
          "data": {
            "text/plain": [
              "                   X                 Y OBJECTID Province_State Country_Region  \\\n",
              "0       -86.64408227       32.53952745        1        Alabama             US   \n",
              "1       -87.72207058  30.7277499100001        2        Alabama             US   \n",
              "2        -85.3871286  31.8682630000001        3        Alabama             US   \n",
              "3        -87.1251146  32.9964206400001        4        Alabama             US   \n",
              "4  -86.5679059299999  33.9821091800001        5        Alabama             US   \n",
              "\n",
              "              Last_Update          Lat         Long_ Confirmed Recovered  ...  \\\n",
              "0  2023/03/10 13:21:02+00  32.53952745  -86.64408227     19790            ...   \n",
              "1  2023/03/10 13:21:02+00  30.72774991  -87.72207058     69860            ...   \n",
              "2  2023/03/10 13:21:02+00    31.868263   -85.3871286      7485            ...   \n",
              "3  2023/03/10 13:21:02+00  32.99642064   -87.1251146      8091            ...   \n",
              "4  2023/03/10 13:21:02+00  33.98210918  -86.56790593     18704            ...   \n",
              "\n",
              "  Active   Admin2   FIPS          Combined_Key     Incident_Rate  \\\n",
              "0         Autauga  01001  Autauga, Alabama, US   35422.148239632   \n",
              "1         Baldwin  01003  Baldwin, Alabama, US  31294.5160683408   \n",
              "2         Barbour  01005  Barbour, Alabama, US  30320.8296200275   \n",
              "3            Bibb  01007     Bibb, Alabama, US  36130.2134500313   \n",
              "4          Blount  01009   Blount, Alabama, US  32345.3117974613   \n",
              "\n",
              "  People_Tested People_Hospitalized       UID ISO3 geometry  \n",
              "0                                    84001001  USA     None  \n",
              "1                                    84001003  USA     None  \n",
              "2                                    84001005  USA     None  \n",
              "3                                    84001007  USA     None  \n",
              "4                                    84001009  USA     None  \n",
              "\n",
              "[5 rows x 21 columns]"
            ],
            "text/html": [
              "\n",
              "  <div id=\"df-cbcaecef-4bda-4101-9fa0-d09606f43390\" class=\"colab-df-container\">\n",
              "    <div>\n",
              "<style scoped>\n",
              "    .dataframe tbody tr th:only-of-type {\n",
              "        vertical-align: middle;\n",
              "    }\n",
              "\n",
              "    .dataframe tbody tr th {\n",
              "        vertical-align: top;\n",
              "    }\n",
              "\n",
              "    .dataframe thead th {\n",
              "        text-align: right;\n",
              "    }\n",
              "</style>\n",
              "<table border=\"1\" class=\"dataframe\">\n",
              "  <thead>\n",
              "    <tr style=\"text-align: right;\">\n",
              "      <th></th>\n",
              "      <th>X</th>\n",
              "      <th>Y</th>\n",
              "      <th>OBJECTID</th>\n",
              "      <th>Province_State</th>\n",
              "      <th>Country_Region</th>\n",
              "      <th>Last_Update</th>\n",
              "      <th>Lat</th>\n",
              "      <th>Long_</th>\n",
              "      <th>Confirmed</th>\n",
              "      <th>Recovered</th>\n",
              "      <th>...</th>\n",
              "      <th>Active</th>\n",
              "      <th>Admin2</th>\n",
              "      <th>FIPS</th>\n",
              "      <th>Combined_Key</th>\n",
              "      <th>Incident_Rate</th>\n",
              "      <th>People_Tested</th>\n",
              "      <th>People_Hospitalized</th>\n",
              "      <th>UID</th>\n",
              "      <th>ISO3</th>\n",
              "      <th>geometry</th>\n",
              "    </tr>\n",
              "  </thead>\n",
              "  <tbody>\n",
              "    <tr>\n",
              "      <th>0</th>\n",
              "      <td>-86.64408227</td>\n",
              "      <td>32.53952745</td>\n",
              "      <td>1</td>\n",
              "      <td>Alabama</td>\n",
              "      <td>US</td>\n",
              "      <td>2023/03/10 13:21:02+00</td>\n",
              "      <td>32.53952745</td>\n",
              "      <td>-86.64408227</td>\n",
              "      <td>19790</td>\n",
              "      <td></td>\n",
              "      <td>...</td>\n",
              "      <td></td>\n",
              "      <td>Autauga</td>\n",
              "      <td>01001</td>\n",
              "      <td>Autauga, Alabama, US</td>\n",
              "      <td>35422.148239632</td>\n",
              "      <td></td>\n",
              "      <td></td>\n",
              "      <td>84001001</td>\n",
              "      <td>USA</td>\n",
              "      <td>None</td>\n",
              "    </tr>\n",
              "    <tr>\n",
              "      <th>1</th>\n",
              "      <td>-87.72207058</td>\n",
              "      <td>30.7277499100001</td>\n",
              "      <td>2</td>\n",
              "      <td>Alabama</td>\n",
              "      <td>US</td>\n",
              "      <td>2023/03/10 13:21:02+00</td>\n",
              "      <td>30.72774991</td>\n",
              "      <td>-87.72207058</td>\n",
              "      <td>69860</td>\n",
              "      <td></td>\n",
              "      <td>...</td>\n",
              "      <td></td>\n",
              "      <td>Baldwin</td>\n",
              "      <td>01003</td>\n",
              "      <td>Baldwin, Alabama, US</td>\n",
              "      <td>31294.5160683408</td>\n",
              "      <td></td>\n",
              "      <td></td>\n",
              "      <td>84001003</td>\n",
              "      <td>USA</td>\n",
              "      <td>None</td>\n",
              "    </tr>\n",
              "    <tr>\n",
              "      <th>2</th>\n",
              "      <td>-85.3871286</td>\n",
              "      <td>31.8682630000001</td>\n",
              "      <td>3</td>\n",
              "      <td>Alabama</td>\n",
              "      <td>US</td>\n",
              "      <td>2023/03/10 13:21:02+00</td>\n",
              "      <td>31.868263</td>\n",
              "      <td>-85.3871286</td>\n",
              "      <td>7485</td>\n",
              "      <td></td>\n",
              "      <td>...</td>\n",
              "      <td></td>\n",
              "      <td>Barbour</td>\n",
              "      <td>01005</td>\n",
              "      <td>Barbour, Alabama, US</td>\n",
              "      <td>30320.8296200275</td>\n",
              "      <td></td>\n",
              "      <td></td>\n",
              "      <td>84001005</td>\n",
              "      <td>USA</td>\n",
              "      <td>None</td>\n",
              "    </tr>\n",
              "    <tr>\n",
              "      <th>3</th>\n",
              "      <td>-87.1251146</td>\n",
              "      <td>32.9964206400001</td>\n",
              "      <td>4</td>\n",
              "      <td>Alabama</td>\n",
              "      <td>US</td>\n",
              "      <td>2023/03/10 13:21:02+00</td>\n",
              "      <td>32.99642064</td>\n",
              "      <td>-87.1251146</td>\n",
              "      <td>8091</td>\n",
              "      <td></td>\n",
              "      <td>...</td>\n",
              "      <td></td>\n",
              "      <td>Bibb</td>\n",
              "      <td>01007</td>\n",
              "      <td>Bibb, Alabama, US</td>\n",
              "      <td>36130.2134500313</td>\n",
              "      <td></td>\n",
              "      <td></td>\n",
              "      <td>84001007</td>\n",
              "      <td>USA</td>\n",
              "      <td>None</td>\n",
              "    </tr>\n",
              "    <tr>\n",
              "      <th>4</th>\n",
              "      <td>-86.5679059299999</td>\n",
              "      <td>33.9821091800001</td>\n",
              "      <td>5</td>\n",
              "      <td>Alabama</td>\n",
              "      <td>US</td>\n",
              "      <td>2023/03/10 13:21:02+00</td>\n",
              "      <td>33.98210918</td>\n",
              "      <td>-86.56790593</td>\n",
              "      <td>18704</td>\n",
              "      <td></td>\n",
              "      <td>...</td>\n",
              "      <td></td>\n",
              "      <td>Blount</td>\n",
              "      <td>01009</td>\n",
              "      <td>Blount, Alabama, US</td>\n",
              "      <td>32345.3117974613</td>\n",
              "      <td></td>\n",
              "      <td></td>\n",
              "      <td>84001009</td>\n",
              "      <td>USA</td>\n",
              "      <td>None</td>\n",
              "    </tr>\n",
              "  </tbody>\n",
              "</table>\n",
              "<p>5 rows × 21 columns</p>\n",
              "</div>\n",
              "    <div class=\"colab-df-buttons\">\n",
              "\n",
              "  <div class=\"colab-df-container\">\n",
              "    <button class=\"colab-df-convert\" onclick=\"convertToInteractive('df-cbcaecef-4bda-4101-9fa0-d09606f43390')\"\n",
              "            title=\"Convert this dataframe to an interactive table.\"\n",
              "            style=\"display:none;\">\n",
              "\n",
              "  <svg xmlns=\"http://www.w3.org/2000/svg\" height=\"24px\" viewBox=\"0 -960 960 960\">\n",
              "    <path d=\"M120-120v-720h720v720H120Zm60-500h600v-160H180v160Zm220 220h160v-160H400v160Zm0 220h160v-160H400v160ZM180-400h160v-160H180v160Zm440 0h160v-160H620v160ZM180-180h160v-160H180v160Zm440 0h160v-160H620v160Z\"/>\n",
              "  </svg>\n",
              "    </button>\n",
              "\n",
              "  <style>\n",
              "    .colab-df-container {\n",
              "      display:flex;\n",
              "      gap: 12px;\n",
              "    }\n",
              "\n",
              "    .colab-df-convert {\n",
              "      background-color: #E8F0FE;\n",
              "      border: none;\n",
              "      border-radius: 50%;\n",
              "      cursor: pointer;\n",
              "      display: none;\n",
              "      fill: #1967D2;\n",
              "      height: 32px;\n",
              "      padding: 0 0 0 0;\n",
              "      width: 32px;\n",
              "    }\n",
              "\n",
              "    .colab-df-convert:hover {\n",
              "      background-color: #E2EBFA;\n",
              "      box-shadow: 0px 1px 2px rgba(60, 64, 67, 0.3), 0px 1px 3px 1px rgba(60, 64, 67, 0.15);\n",
              "      fill: #174EA6;\n",
              "    }\n",
              "\n",
              "    .colab-df-buttons div {\n",
              "      margin-bottom: 4px;\n",
              "    }\n",
              "\n",
              "    [theme=dark] .colab-df-convert {\n",
              "      background-color: #3B4455;\n",
              "      fill: #D2E3FC;\n",
              "    }\n",
              "\n",
              "    [theme=dark] .colab-df-convert:hover {\n",
              "      background-color: #434B5C;\n",
              "      box-shadow: 0px 1px 3px 1px rgba(0, 0, 0, 0.15);\n",
              "      filter: drop-shadow(0px 1px 2px rgba(0, 0, 0, 0.3));\n",
              "      fill: #FFFFFF;\n",
              "    }\n",
              "  </style>\n",
              "\n",
              "    <script>\n",
              "      const buttonEl =\n",
              "        document.querySelector('#df-cbcaecef-4bda-4101-9fa0-d09606f43390 button.colab-df-convert');\n",
              "      buttonEl.style.display =\n",
              "        google.colab.kernel.accessAllowed ? 'block' : 'none';\n",
              "\n",
              "      async function convertToInteractive(key) {\n",
              "        const element = document.querySelector('#df-cbcaecef-4bda-4101-9fa0-d09606f43390');\n",
              "        const dataTable =\n",
              "          await google.colab.kernel.invokeFunction('convertToInteractive',\n",
              "                                                    [key], {});\n",
              "        if (!dataTable) return;\n",
              "\n",
              "        const docLinkHtml = 'Like what you see? Visit the ' +\n",
              "          '<a target=\"_blank\" href=https://colab.research.google.com/notebooks/data_table.ipynb>data table notebook</a>'\n",
              "          + ' to learn more about interactive tables.';\n",
              "        element.innerHTML = '';\n",
              "        dataTable['output_type'] = 'display_data';\n",
              "        await google.colab.output.renderOutput(dataTable, element);\n",
              "        const docLink = document.createElement('div');\n",
              "        docLink.innerHTML = docLinkHtml;\n",
              "        element.appendChild(docLink);\n",
              "      }\n",
              "    </script>\n",
              "  </div>\n",
              "\n",
              "\n",
              "<div id=\"df-af5e458d-e853-4ef6-8b0b-de1c22479fab\">\n",
              "  <button class=\"colab-df-quickchart\" onclick=\"quickchart('df-af5e458d-e853-4ef6-8b0b-de1c22479fab')\"\n",
              "            title=\"Suggest charts.\"\n",
              "            style=\"display:none;\">\n",
              "\n",
              "<svg xmlns=\"http://www.w3.org/2000/svg\" height=\"24px\"viewBox=\"0 0 24 24\"\n",
              "     width=\"24px\">\n",
              "    <g>\n",
              "        <path d=\"M19 3H5c-1.1 0-2 .9-2 2v14c0 1.1.9 2 2 2h14c1.1 0 2-.9 2-2V5c0-1.1-.9-2-2-2zM9 17H7v-7h2v7zm4 0h-2V7h2v10zm4 0h-2v-4h2v4z\"/>\n",
              "    </g>\n",
              "</svg>\n",
              "  </button>\n",
              "\n",
              "<style>\n",
              "  .colab-df-quickchart {\n",
              "      --bg-color: #E8F0FE;\n",
              "      --fill-color: #1967D2;\n",
              "      --hover-bg-color: #E2EBFA;\n",
              "      --hover-fill-color: #174EA6;\n",
              "      --disabled-fill-color: #AAA;\n",
              "      --disabled-bg-color: #DDD;\n",
              "  }\n",
              "\n",
              "  [theme=dark] .colab-df-quickchart {\n",
              "      --bg-color: #3B4455;\n",
              "      --fill-color: #D2E3FC;\n",
              "      --hover-bg-color: #434B5C;\n",
              "      --hover-fill-color: #FFFFFF;\n",
              "      --disabled-bg-color: #3B4455;\n",
              "      --disabled-fill-color: #666;\n",
              "  }\n",
              "\n",
              "  .colab-df-quickchart {\n",
              "    background-color: var(--bg-color);\n",
              "    border: none;\n",
              "    border-radius: 50%;\n",
              "    cursor: pointer;\n",
              "    display: none;\n",
              "    fill: var(--fill-color);\n",
              "    height: 32px;\n",
              "    padding: 0;\n",
              "    width: 32px;\n",
              "  }\n",
              "\n",
              "  .colab-df-quickchart:hover {\n",
              "    background-color: var(--hover-bg-color);\n",
              "    box-shadow: 0 1px 2px rgba(60, 64, 67, 0.3), 0 1px 3px 1px rgba(60, 64, 67, 0.15);\n",
              "    fill: var(--button-hover-fill-color);\n",
              "  }\n",
              "\n",
              "  .colab-df-quickchart-complete:disabled,\n",
              "  .colab-df-quickchart-complete:disabled:hover {\n",
              "    background-color: var(--disabled-bg-color);\n",
              "    fill: var(--disabled-fill-color);\n",
              "    box-shadow: none;\n",
              "  }\n",
              "\n",
              "  .colab-df-spinner {\n",
              "    border: 2px solid var(--fill-color);\n",
              "    border-color: transparent;\n",
              "    border-bottom-color: var(--fill-color);\n",
              "    animation:\n",
              "      spin 1s steps(1) infinite;\n",
              "  }\n",
              "\n",
              "  @keyframes spin {\n",
              "    0% {\n",
              "      border-color: transparent;\n",
              "      border-bottom-color: var(--fill-color);\n",
              "      border-left-color: var(--fill-color);\n",
              "    }\n",
              "    20% {\n",
              "      border-color: transparent;\n",
              "      border-left-color: var(--fill-color);\n",
              "      border-top-color: var(--fill-color);\n",
              "    }\n",
              "    30% {\n",
              "      border-color: transparent;\n",
              "      border-left-color: var(--fill-color);\n",
              "      border-top-color: var(--fill-color);\n",
              "      border-right-color: var(--fill-color);\n",
              "    }\n",
              "    40% {\n",
              "      border-color: transparent;\n",
              "      border-right-color: var(--fill-color);\n",
              "      border-top-color: var(--fill-color);\n",
              "    }\n",
              "    60% {\n",
              "      border-color: transparent;\n",
              "      border-right-color: var(--fill-color);\n",
              "    }\n",
              "    80% {\n",
              "      border-color: transparent;\n",
              "      border-right-color: var(--fill-color);\n",
              "      border-bottom-color: var(--fill-color);\n",
              "    }\n",
              "    90% {\n",
              "      border-color: transparent;\n",
              "      border-bottom-color: var(--fill-color);\n",
              "    }\n",
              "  }\n",
              "</style>\n",
              "\n",
              "  <script>\n",
              "    async function quickchart(key) {\n",
              "      const quickchartButtonEl =\n",
              "        document.querySelector('#' + key + ' button');\n",
              "      quickchartButtonEl.disabled = true;  // To prevent multiple clicks.\n",
              "      quickchartButtonEl.classList.add('colab-df-spinner');\n",
              "      try {\n",
              "        const charts = await google.colab.kernel.invokeFunction(\n",
              "            'suggestCharts', [key], {});\n",
              "      } catch (error) {\n",
              "        console.error('Error during call to suggestCharts:', error);\n",
              "      }\n",
              "      quickchartButtonEl.classList.remove('colab-df-spinner');\n",
              "      quickchartButtonEl.classList.add('colab-df-quickchart-complete');\n",
              "    }\n",
              "    (() => {\n",
              "      let quickchartButtonEl =\n",
              "        document.querySelector('#df-af5e458d-e853-4ef6-8b0b-de1c22479fab button');\n",
              "      quickchartButtonEl.style.display =\n",
              "        google.colab.kernel.accessAllowed ? 'block' : 'none';\n",
              "    })();\n",
              "  </script>\n",
              "</div>\n",
              "    </div>\n",
              "  </div>\n"
            ]
          },
          "metadata": {},
          "execution_count": 2
        }
      ]
    },
    {
      "cell_type": "code",
      "source": [
        "data.info()"
      ],
      "metadata": {
        "colab": {
          "base_uri": "https://localhost:8080/"
        },
        "id": "KEb9-ZbePRDY",
        "outputId": "4261015a-59a1-4e30-a70c-84449ca51275"
      },
      "execution_count": 3,
      "outputs": [
        {
          "output_type": "stream",
          "name": "stdout",
          "text": [
            "<class 'geopandas.geodataframe.GeoDataFrame'>\n",
            "RangeIndex: 3272 entries, 0 to 3271\n",
            "Data columns (total 21 columns):\n",
            " #   Column               Non-Null Count  Dtype   \n",
            "---  ------               --------------  -----   \n",
            " 0   X                    3272 non-null   object  \n",
            " 1   Y                    3272 non-null   object  \n",
            " 2   OBJECTID             3272 non-null   object  \n",
            " 3   Province_State       3272 non-null   object  \n",
            " 4   Country_Region       3272 non-null   object  \n",
            " 5   Last_Update          3272 non-null   object  \n",
            " 6   Lat                  3272 non-null   object  \n",
            " 7   Long_                3272 non-null   object  \n",
            " 8   Confirmed            3272 non-null   object  \n",
            " 9   Recovered            3272 non-null   object  \n",
            " 10  Deaths               3272 non-null   object  \n",
            " 11  Active               3272 non-null   object  \n",
            " 12  Admin2               3272 non-null   object  \n",
            " 13  FIPS                 3272 non-null   object  \n",
            " 14  Combined_Key         3272 non-null   object  \n",
            " 15  Incident_Rate        3272 non-null   object  \n",
            " 16  People_Tested        3272 non-null   object  \n",
            " 17  People_Hospitalized  3272 non-null   object  \n",
            " 18  UID                  3272 non-null   object  \n",
            " 19  ISO3                 3272 non-null   object  \n",
            " 20  geometry             0 non-null      geometry\n",
            "dtypes: geometry(1), object(20)\n",
            "memory usage: 536.9+ KB\n"
          ]
        }
      ]
    },
    {
      "cell_type": "code",
      "source": [
        "data.geom_type"
      ],
      "metadata": {
        "colab": {
          "base_uri": "https://localhost:8080/"
        },
        "id": "oP9uX695PUCy",
        "outputId": "7e0cb65a-0bfb-4c7b-e15b-7b44d6e491fd"
      },
      "execution_count": 4,
      "outputs": [
        {
          "output_type": "execute_result",
          "data": {
            "text/plain": [
              "0       None\n",
              "1       None\n",
              "2       None\n",
              "3       None\n",
              "4       None\n",
              "        ... \n",
              "3267    None\n",
              "3268    None\n",
              "3269    None\n",
              "3270    None\n",
              "3271    None\n",
              "Length: 3272, dtype: object"
            ]
          },
          "metadata": {},
          "execution_count": 4
        }
      ]
    },
    {
      "cell_type": "code",
      "source": [
        "from shapely.geometry import Point\n",
        "\n",
        "# Create a geometry column with Point geometries from latitude and longitude columns\n",
        "def create_point(row):\n",
        "    try:\n",
        "        longitude = float(row['Long_'])\n",
        "        latitude = float(row['Lat'])\n",
        "        return Point(longitude, latitude)\n",
        "    except ValueError:\n",
        "        return None\n",
        "\n",
        "data['geometry'] = data.apply(create_point, axis=1)\n",
        "\n",
        "# Remove rows with empty or invalid geometries\n",
        "data = data.dropna(subset=['geometry'])\n",
        "\n",
        "# Convert the GeoDataFrame to a polygon dataset\n",
        "data = data.set_geometry('geometry')\n",
        "\n",
        "data.geom_type"
      ],
      "metadata": {
        "colab": {
          "base_uri": "https://localhost:8080/"
        },
        "id": "DXtZlMB6PWoU",
        "outputId": "aacb9afd-1c49-4a99-9fc2-0a475741c45c"
      },
      "execution_count": 5,
      "outputs": [
        {
          "output_type": "execute_result",
          "data": {
            "text/plain": [
              "0       Point\n",
              "1       Point\n",
              "2       Point\n",
              "3       Point\n",
              "4       Point\n",
              "        ...  \n",
              "3266    Point\n",
              "3267    Point\n",
              "3268    Point\n",
              "3270    Point\n",
              "3271    Point\n",
              "Length: 3204, dtype: object"
            ]
          },
          "metadata": {},
          "execution_count": 5
        }
      ]
    },
    {
      "cell_type": "code",
      "source": [
        "import numpy as np\n",
        "from sklearn.cluster import MiniBatchKMeans\n",
        "from sklearn.covariance import MinCovDet"
      ],
      "metadata": {
        "id": "-_TeF8krPZXj"
      },
      "execution_count": 6,
      "outputs": []
    },
    {
      "cell_type": "code",
      "source": [
        "def calculate_robust_distance(data):\n",
        "    mcd = MinCovDet()\n",
        "    mcd.fit(data)\n",
        "    robust_covariance = mcd.covariance_\n",
        "    robust_distances = np.sqrt(np.sum(np.square(np.dot(data - mcd.location_, np.linalg.inv(robust_covariance))), axis=1))\n",
        "    return robust_distances"
      ],
      "metadata": {
        "id": "FsglGFTRP0Di"
      },
      "execution_count": 8,
      "outputs": []
    },
    {
      "cell_type": "code",
      "source": [
        "import pandas as pd\n",
        "\n",
        "dataset = pd.DataFrame({\n",
        "    'Lat': pd.to_numeric(data['Lat'], errors='coerce'),\n",
        "    'Long_': pd.to_numeric(data['Long_'], errors='coerce'),\n",
        "    'Confirmed': pd.to_numeric(data['Confirmed'], errors='coerce')\n",
        "})\n",
        "\n",
        "robust_distances = calculate_robust_distance(dataset)\n",
        "robust_distances"
      ],
      "metadata": {
        "colab": {
          "base_uri": "https://localhost:8080/"
        },
        "id": "1i-YLmvgRwq_",
        "outputId": "44fde5c6-f69f-4ee3-af3a-c6c25c8b7354"
      },
      "execution_count": 12,
      "outputs": [
        {
          "output_type": "execute_result",
          "data": {
            "text/plain": [
              "array([0.19446816, 0.70131632, 0.17989736, ..., 0.21954681, 0.16275213,\n",
              "       0.14451338])"
            ]
          },
          "metadata": {},
          "execution_count": 12
        }
      ]
    },
    {
      "cell_type": "code",
      "source": [
        "def detect_spatial_outliers(data, threshold):\n",
        "    robust_distances = calculate_robust_distance(data)\n",
        "    outliers = np.where(robust_distances > threshold)[0]\n",
        "    return outliers"
      ],
      "metadata": {
        "id": "3DogHnpTSIII"
      },
      "execution_count": 22,
      "outputs": []
    },
    {
      "cell_type": "code",
      "source": [
        "kmeans = MiniBatchKMeans(n_clusters=5)\n",
        "kmeans.fit(dataset)\n",
        "\n",
        "threshold = 3.0\n",
        "\n",
        "outliers = detect_spatial_outliers(dataset, threshold)\n",
        "outliers"
      ],
      "metadata": {
        "colab": {
          "base_uri": "https://localhost:8080/"
        },
        "id": "JHbmRhGPSjEE",
        "outputId": "6e173e15-6542-4fc4-e24e-2b8e092e0c0b"
      },
      "execution_count": 23,
      "outputs": [
        {
          "output_type": "stream",
          "name": "stderr",
          "text": [
            "/usr/local/lib/python3.10/dist-packages/sklearn/cluster/_kmeans.py:870: FutureWarning: The default value of `n_init` will change from 3 to 'auto' in 1.4. Set the value of `n_init` explicitly to suppress the warning\n",
            "  warnings.warn(\n"
          ]
        },
        {
          "output_type": "execute_result",
          "data": {
            "text/plain": [
              "array([ 104,  107,  187,  193,  196,  201,  205,  216,  219,  220,  222,\n",
              "        223,  229,  326,  335,  348,  363,  368,  370,  548,  610, 1225,\n",
              "       1279, 1292, 1311, 1339, 1583, 1749, 1775, 1830, 1851, 1857, 1858,\n",
              "       1868, 1879, 1887, 1949, 1981, 2060, 2067, 2245, 2294, 2584, 2615,\n",
              "       2657, 2701, 2820, 2827, 2858, 3031, 3149])"
            ]
          },
          "metadata": {},
          "execution_count": 23
        }
      ]
    },
    {
      "cell_type": "code",
      "source": [
        "import matplotlib.pyplot as plt\n",
        "from mpl_toolkits.mplot3d import Axes3D  # Import for 3D plotting\n",
        "\n",
        "# Define the dataset as you did before\n",
        "dataset = pd.DataFrame({\n",
        "    'Lat': pd.to_numeric(data['Lat'], errors='coerce'),\n",
        "    'Long_': pd.to_numeric(data['Long_'], errors='coerce'),\n",
        "    'Confirmed': pd.to_numeric(data['Confirmed'], errors='coerce')\n",
        "})\n",
        "\n",
        "# Extract Longitude and Latitude values for the outliers\n",
        "outlier_coords = dataset.iloc[outliers][['Long_', 'Lat']].values\n",
        "\n",
        "# Create a 3D scatter plot to visualize the outliers\n",
        "fig = plt.figure()\n",
        "ax = fig.add_subplot(111, projection='3d')\n",
        "\n",
        "# Plot the outliers with their Longitude and Latitude values\n",
        "ax.scatter(outlier_coords[:, 0], outlier_coords[:, 1], robust_distances[outliers], c='r', marker='o', label='Outliers')\n",
        "\n",
        "# Set labels for the axes\n",
        "ax.set_xlabel('Longitude (Long_)')\n",
        "ax.set_ylabel('Latitude (Lat)')\n",
        "ax.set_zlabel('Robust Distances')\n",
        "\n",
        "# Show the plot\n",
        "plt.show()"
      ],
      "metadata": {
        "colab": {
          "base_uri": "https://localhost:8080/",
          "height": 409
        },
        "id": "jbuX4ZNpTEhi",
        "outputId": "574c0e36-72ae-4a2c-daa8-f355ed0f028b"
      },
      "execution_count": 36,
      "outputs": [
        {
          "output_type": "display_data",
          "data": {
            "text/plain": [
              "<Figure size 640x480 with 1 Axes>"
            ],
            "image/png": "[encoded data removed]"
          },
          "metadata": {}
        }
      ]
    }
  ]
}